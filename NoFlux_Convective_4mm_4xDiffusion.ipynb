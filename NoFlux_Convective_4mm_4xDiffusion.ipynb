{
 "cells": [
  {
   "cell_type": "code",
   "execution_count": 29,
   "metadata": {
    "collapsed": false
   },
   "outputs": [],
   "source": [
    "# Crank-Nicolson Method\n",
    "import numpy \n",
    "import  matplotlib.pyplot as  pyplot\n",
    "import time\n",
    "tic = time.clock()\n",
    "numpy.set_printoptions(precision=6)\n"
   ]
  },
  {
   "cell_type": "code",
   "execution_count": 30,
   "metadata": {
    "collapsed": false
   },
   "outputs": [],
   "source": [
    "# Specifiy the geometry of the domain\n",
    "\n",
    "L = 22.02*10**(-3) # total length of the channel (m), it was 15.5 mm\n",
    "J = 701 # number of grids in space, 40um/grid (J=176), 10um/grid (J=701)\n",
    "#dx = float(L)/float(J-1)\n",
    "dx = 1.0e-5 # coarse grid size\n",
    "x_grid = numpy.array([j*dx for j in range(J)]) #source\n",
    "\n",
    "mem_loc = [7*10**(-3),7.01*10**(-3),15.01*10**(-3),15.02*10**(-3)]\n",
    "#mem_loc_index = round(float(mem_loc)/float(dx))\n",
    "J1 = numpy.linspace(mem_loc[0],mem_loc[1],num=2) # grids within 1st membrane \n",
    "x_grid = numpy.concatenate((x_grid[0:-1],J1[0:-1])) \n",
    "gap_grid=numpy.linspace(mem_loc[1],mem_loc[2],num=801) # grids between 1st and 2nd membrane for 40 um/grid size (num = 26 for 1 mm, 51 for 2 mm, 101 for 4mm, 201 for 8mm)\n",
    "x_grid=numpy.concatenate((x_grid,gap_grid[0:-1]))# gap\n",
    "J2 = numpy.linspace(mem_loc[2],mem_loc[3],num=2) # grids within 2nd membrane \n",
    "#x_grid = numpy.array([j*dx for j in range(J)])\n",
    "x_grid = numpy.concatenate((x_grid,J2[0:-1]))\n",
    "drain_grid=numpy.linspace(mem_loc[3],L,num=701) # for 40 um/grid size  (num=188 for 1 mm, 163 for 2mm, 113 for 4 mm, 13 for 8mm)\n",
    "x_grid=numpy.concatenate((x_grid,drain_grid))#drain\n",
    "\n",
    "#x_grid = numpy.sort(x_grid, axis=None)\n",
    "#x_grid.append(J1)\n",
    "#x_grid.appedn(J2)\n",
    "#x_grid.sort()\n",
    "T = 120*60 # total time (sec) \n",
    "N = 1000 # number of grids in time\n",
    "dt = float(T)/float(N-1)\n",
    "t_grid = numpy.array([n*dt for n in range(N)])\n",
    "\n",
    "pyplot.scatter(x_grid,x_grid)\n",
    "pyplot.show()"
   ]
  },
  {
   "cell_type": "code",
   "execution_count": 31,
   "metadata": {
    "collapsed": false
   },
   "outputs": [],
   "source": [
    "# Define the diffusion coefficient of the chamber and membrane\n",
    "\n",
    "d_u = 4.*5.5*10**(-10) # Alpha Methyl Aspartate (m2/s)\n",
    "d_m = 0.03*d_u # touluene diffucivity at the membranes\n",
    "#D_c =  (D_u+D_m)/2 # centering the diffusion coefficient \n",
    "d_c = (dx+(J1[1]-J1[0]))/2 # centering the grid size\n",
    "\n",
    "sigma_u = float(d_u*dt)/float((2.*dx*dx)) \n",
    "sigma_m = float(d_m*dt)/float((2.*(J1[1]-J1[0])*(J1[1]-J1[0])))\n",
    "#sigma_c = float(D_c*dt)/float((2.*d_c*d_c))"
   ]
  },
  {
   "cell_type": "code",
   "execution_count": 32,
   "metadata": {
    "collapsed": false
   },
   "outputs": [
    {
     "name": "stdout",
     "output_type": "stream",
     "text": [
      "[700]\n",
      "[1501]\n"
     ]
    }
   ],
   "source": [
    "# specify the initial condition for attractant\n",
    "\n",
    "no_high = numpy.where(x_grid == mem_loc[0]) # location of the 1st membrane\n",
    "no_high = numpy.asarray(no_high[0])\n",
    "second_mem = numpy.where(x_grid == mem_loc[2]) # location of the 2nd membrane\n",
    "second_mem = numpy.asarray(second_mem[0])\n",
    "U =  numpy.array([1. for i in range(0,no_high)]+ [0. for i in range(no_high,len(x_grid))]) \n",
    "print no_high\n",
    "print second_mem\n",
    "#fig1 = pyplot.figure()\n",
    "#pyplot.ylim((0., 1.))\n",
    "#pyplot.xlabel('x[m]'); pyplot.ylabel('concentration[mM]')\n",
    "#pyplot.plot(x_grid, U)\n",
    "#pyplot.show()\n",
    "#fig1.savefig('Initial_Repellent_concentration.png')"
   ]
  },
  {
   "cell_type": "code",
   "execution_count": 33,
   "metadata": {
    "collapsed": true
   },
   "outputs": [],
   "source": [
    "#Create Matrices\n",
    "#The matrices that we need to construct are all tridiagonal so they are easy to construct with \n",
    "#numpy.diagflat.\n",
    "\n",
    "# it was for i in range(J-1)\n",
    "A_u = numpy.diagflat([-sigma_u for i in range(len(x_grid)-1)], -1) +\\\n",
    "      numpy.diagflat([1.+sigma_u]+[1.+2.*sigma_u for i in range(len(x_grid)-2)]+[1.+sigma_u]) +\\\n",
    "      numpy.diagflat([-sigma_u for i in range(len(x_grid)-1)], 1)\n",
    "        \n",
    "B_u = numpy.diagflat([sigma_u for i in range(len(x_grid)-1)], -1) +\\\n",
    "      numpy.diagflat([1.-sigma_u]+[1.-2.*sigma_u for i in range(len(x_grid)-2)]+[1.-sigma_u]) +\\\n",
    "      numpy.diagflat([sigma_u for i in range(len(x_grid)-1)], 1)\n",
    "        \n",
    "# 1st membrane left boundary\n",
    "sigma_c_minus = float(d_u*dt)/float(2.*dx*d_c) # outside membrane \n",
    "sigma_c_plus = float(d_m*dt)/float((2.*(J1[1]-J1[0])*d_c)) # within membrane\n",
    "\n",
    "A_u[no_high,no_high]=1.+sigma_c_plus+sigma_c_minus\n",
    "A_u[no_high,no_high-1]=-sigma_c_minus\n",
    "A_u[no_high,no_high+1]=-sigma_c_plus\n",
    "B_u[no_high,no_high]=1.-sigma_c_plus-sigma_c_minus\n",
    "B_u[no_high,no_high-1]=sigma_c_minus\n",
    "B_u[no_high,no_high+1]=sigma_c_plus\n",
    "\n",
    "#within the 1st membrane only \n",
    "if len(J1) >= 3: # only work if there's more than 3 grids in the membrane\n",
    "    for i in range(len(J1)-2): # exclude the left and right boundary\n",
    "        i = i+1 # next of the left boundary\n",
    "        A_u[no_high+i,no_high+i]=1.+2.*sigma_m\n",
    "        A_u[no_high+i,no_high+i-1]=-sigma_m\n",
    "        A_u[no_high+i,no_high+i+1]=-sigma_m\n",
    "        B_u[no_high+i,no_high+i]=1.-2.*sigma_m\n",
    "        B_u[no_high+i,no_high+i-1]=sigma_m\n",
    "        B_u[no_high+i,no_high+i+1]=sigma_m\n",
    "\n",
    "# 1st membrane right boundary\n",
    "sigma_c_minus = float(d_m*dt)/float((2.*(J1[1]-J1[0])*d_c)) # within membrane \n",
    "sigma_c_plus = float(d_u*dt)/float((2.*dx*d_c)) # outside membrane\n",
    "\n",
    "A_u[no_high+2,no_high+2]=1.+sigma_c_plus+sigma_c_minus\n",
    "A_u[no_high+2,no_high+2-1]=-sigma_c_minus\n",
    "A_u[no_high+2,no_high+2+1]=-sigma_c_plus\n",
    "B_u[no_high+2,no_high+2]=1.-sigma_c_plus-sigma_c_minus\n",
    "B_u[no_high+2,no_high+2-1]=sigma_c_minus\n",
    "B_u[no_high+2,no_high+2+1]=sigma_c_plus\n",
    "    \n",
    "# 2nd membrane left boundary\n",
    "sigma_c_minus = float(d_u*dt)/float((2.*dx*d_c)) # outside membrane \n",
    "sigma_c_plus = float(d_m*dt)/float((2.*(J1[1]-J1[0])*d_c)) # within membrane\n",
    "\n",
    "A_u[second_mem,second_mem]=1.+sigma_c_plus+sigma_c_minus\n",
    "A_u[second_mem,second_mem-1]=-sigma_c_minus\n",
    "A_u[second_mem,second_mem+1]=-sigma_c_plus\n",
    "B_u[second_mem,second_mem]=1.-sigma_c_plus-sigma_c_minus\n",
    "B_u[second_mem,second_mem-1]=sigma_c_minus\n",
    "B_u[second_mem,second_mem+1]=sigma_c_plus\n",
    "\n",
    "# within the 2nd membrane \n",
    "if len(J2) >=3: # work only if there's more than 3 elements in J2\n",
    "    for i in range(len(J2)-2): # excluding the left and right boundary\n",
    "        i = i+1 # next of the left boundary\n",
    "        A_u[second_mem+i,second_mem+i]=1.+2.*sigma_m\n",
    "        A_u[second_mem+i,second_mem+i-1]=-sigma_m\n",
    "        A_u[second_mem+i,second_mem+i+1]=-sigma_m\n",
    "        B_u[second_mem+i,second_mem+i]=1.-2.*sigma_m\n",
    "        B_u[second_mem+i,second_mem+i-1]=sigma_m\n",
    "        B_u[second_mem+i,second_mem+i+1]=sigma_m\n",
    "\n",
    "# 2nd membrane right boundary\n",
    "sigma_c_minus = float(d_m*dt)/float((2.*(J1[1]-J1[0])*d_c)) # within membrane \n",
    "sigma_c_plus = float(d_u*dt)/float((2.*dx*d_c)) # outside membrane\n",
    "\n",
    "A_u[second_mem+2,second_mem+2]=1.+sigma_c_plus+sigma_c_minus\n",
    "A_u[second_mem+2,second_mem+2-1]=-sigma_c_minus\n",
    "A_u[second_mem+2,second_mem+2+1]=-sigma_c_plus\n",
    "B_u[second_mem+2,second_mem+2]=1.-sigma_c_plus-sigma_c_minus\n",
    "B_u[second_mem+2,second_mem+2-1]=sigma_c_minus\n",
    "B_u[second_mem+2,second_mem+2+1]=sigma_c_plus  \n"
   ]
  },
  {
   "cell_type": "code",
   "execution_count": 34,
   "metadata": {
    "collapsed": false
   },
   "outputs": [
    {
     "name": "stdout",
     "output_type": "stream",
     "text": [
      "[[  80.279279  -79.279279    0.       ...,    0.          0.          0.      ]\n",
      " [ -79.279279  159.558559  -79.279279 ...,    0.          0.          0.      ]\n",
      " [   0.        -79.279279  159.558559 ...,    0.          0.          0.      ]\n",
      " ..., \n",
      " [   0.          0.          0.       ...,  159.558559  -79.279279    0.      ]\n",
      " [   0.          0.          0.       ...,  -79.279279  159.558559\n",
      "   -79.279279]\n",
      " [   0.          0.          0.       ...,    0.        -79.279279\n",
      "    80.279279]]\n",
      "82.6576576577\n",
      "-79.2792792793\n",
      "-2.37837837838\n",
      "82.6576576577\n",
      "-79.2792792793\n",
      "-2.37837837838\n",
      "-80.6576576577\n",
      "79.2792792793\n",
      "2.37837837838\n",
      "-80.6576576577\n",
      "79.2792792793\n",
      "2.37837837838\n"
     ]
    }
   ],
   "source": [
    "#To confirm, this is what A_u, B_u looks like:    \n",
    "\n",
    "print A_u\n",
    "print A_u[no_high[0],no_high[0]]\n",
    "print A_u[no_high[0],no_high[0]-1]\n",
    "print A_u[no_high[0],no_high[0]+1]\n",
    "print A_u[second_mem[0],second_mem[0]]\n",
    "print A_u[second_mem[0],second_mem[0]-1]\n",
    "print A_u[second_mem[0],second_mem[0]+1]\n",
    "\n",
    "print B_u[no_high[0],no_high[0]]\n",
    "print B_u[no_high[0],no_high[0]-1]\n",
    "print B_u[no_high[0],no_high[0]+1]\n",
    "print B_u[second_mem[0],second_mem[0]]\n",
    "print B_u[second_mem[0],second_mem[0]-1]\n",
    "print B_u[second_mem[0],second_mem[0]+1]"
   ]
  },
  {
   "cell_type": "code",
   "execution_count": 35,
   "metadata": {
    "collapsed": true
   },
   "outputs": [],
   "source": [
    "# Solve the system iteratively\n",
    "U_record = []\n",
    "\n",
    "U_record.append(U)\n",
    "\n",
    "for ti in range(1,N):\n",
    "    U_new = numpy.linalg.solve(A_u,B_u.dot(U))    \n",
    "    U = U_new \n",
    "    U_record.append(U)\n",
    "\n"
   ]
  },
  {
   "cell_type": "code",
   "execution_count": 36,
   "metadata": {
    "collapsed": true
   },
   "outputs": [],
   "source": [
    "# Plot the numerical solution at the last time snap shot\n",
    "fig2 = pyplot.figure()\n",
    "pyplot.ylim((0., 1.))\n",
    "pyplot.xlabel('x[m]'); pyplot.ylabel('concentration[mM]')\n",
    "pyplot.plot(x_grid, U)\n",
    "pyplot.show()\n",
    "fig2.savefig('Transient_repellent_gradient.png')\n",
    "\n"
   ]
  },
  {
   "cell_type": "code",
   "execution_count": 25,
   "metadata": {
    "collapsed": false
   },
   "outputs": [],
   "source": [
    "# Plot the heatmap of the chemical concentration\n",
    "U_record = numpy.array(U_record) # attractant spatial and temporal data\n",
    "fig3, ax = pyplot.subplots()\n",
    "pyplot.xlabel('x[m]'); pyplot.ylabel('t[sec]')\n",
    "heatmap = ax.pcolor(x_grid, t_grid, U_record, vmin=0., vmax=2.1)\n",
    "colorbar = pyplot.colorbar(heatmap)\n",
    "pyplot.show()\n",
    "fig3.savefig('Repellent_transient_heatmap.png')"
   ]
  },
  {
   "cell_type": "code",
   "execution_count": 37,
   "metadata": {
    "collapsed": false
   },
   "outputs": [],
   "source": [
    "# Calculate V_C, advection coefficient\n",
    "mu = 28.0*10**(-6) # bacterial swimming speed (m/s) E-coli\n",
    "ki = 5.0*10**(-8) # m2/s\n",
    "kc = 0.125 # mM, mol/m3\n",
    "mu =44.0*10**(-6) # bacterial swimming speed (m/s)                                                         \n",
    "\n",
    "r = len(t_grid) # length of the temporal grids\n",
    "c = len(x_grid) # length of the spatial grids\n",
    "V_C = numpy.zeros([r,c])\n",
    "# U_record is a list, and needs to convert it to an array\n",
    "U_record = numpy.asarray(U_record)\n",
    "\n",
    "V_C[:,0] =2./3.*mu*numpy.tanh(ki/(2.*mu)*kc/((kc+U_record[:,0])**2)*\n",
    "                              (U_record[:,1]-U_record[:,0])/(x_grid[j+1]-x_grid[j])) \n",
    "\n",
    "for n in range(0,r): # time\n",
    "    for j in range(0,c-1): # space\n",
    "        V_C[n, j+1] = 2./3.*mu*numpy.tanh(ki/(2.*mu)*kc/((kc+U_record[n,j])**2)*\n",
    "                                          (U_record[n,j+1]-U_record[n,j])\n",
    "                                          /(x_grid[j+1]-x_grid[j]))\n",
    "        \n",
    "\n",
    "#print [V_C[0,i] for i in range(5)]\n",
    "\n",
    "V_C_d = numpy.zeros([r,c]) # the derivative of V_C using Crank-Nicolson method\n",
    "\n",
    "# left boundary, first column, c =0 \n",
    "\n",
    "for n in range(0,r-1): # time  \n",
    "    V_C_d[n,0] = 1./(4.*x_grid[1]-x_grid[0])*(V_C[n,1]-V_C[n,0]+V_C[n+1,1]-V_C[n+1,0])\n",
    "\n",
    "# right boundary,last column, c-1\n",
    " \n",
    "for n in range(0,r-1): # time  \n",
    "    V_C_d[n,c-1] = 1./(4.*x_grid[c-1]-x_grid[c-2])*(V_C[n,c-1]-V_C[n,c-2]+V_C[n+1,c-1]-V_C[n+1,c-2])\n",
    " \n",
    "\n",
    "# the rest of the matrix\n",
    "for n in range(0,r-1): # time \n",
    "    for j in range(1,c-2): # space, excluding the first and last column\n",
    "        V_C_d[n,j] = 1./(4.*(x_grid[j+1]-x_grid[j]))*(V_C[n,j+1]-V_C[n,j-1]+V_C[n+1,j+1]-V_C[n+1,j-1])\n",
    "\n"
   ]
  },
  {
   "cell_type": "code",
   "execution_count": 42,
   "metadata": {
    "collapsed": true
   },
   "outputs": [],
   "source": [
    "# Plot V_C_d\n",
    "figV_C_d = pyplot.figure()\n",
    "heatmap = pyplot.pcolor(V_C_d)\n",
    "colorbar = pyplot.colorbar(heatmap)\n",
    "pyplot.show() \n",
    "figV_C_d.savefig('V_C_d heatmap.png')\n"
   ]
  },
  {
   "cell_type": "code",
   "execution_count": 34,
   "metadata": {
    "collapsed": false
   },
   "outputs": [],
   "source": [
    "# Plot V_C\n",
    "fig4 = pyplot.figure()\n",
    "heatmap = pyplot.pcolor(V_C)\n",
    "colorbar = pyplot.colorbar(heatmap)\n",
    "pyplot.show() \n",
    "fig4.savefig('V_C heatmap.png')\n"
   ]
  },
  {
   "cell_type": "code",
   "execution_count": 38,
   "metadata": {
    "collapsed": false
   },
   "outputs": [],
   "source": [
    "# Calculate the bacterial population\n",
    "\n",
    "# initial condition of the bacteria\n",
    "no_high = numpy.where(x_grid == mem_loc[1]) # location of the 1st membrane                \n",
    "no_high = no_high[0]\n",
    "second_mem = numpy.where(x_grid == mem_loc[2]) # location of the 2nd membrane                              \n",
    "second_mem = second_mem[0]\n",
    "B =  numpy.array([0. for i in range(0,no_high+1)]+[100. for i in range(no_high+1, second_mem)]+\n",
    "                 [0. for i in range(second_mem,len(x_grid))]) # step function initial condition                 \n",
    "\n",
    "fig5 = pyplot.figure()\n",
    "pyplot.ylim((0., 100.))\n",
    "pyplot.xlabel('x[m]'); pyplot.ylabel('Bacterial Population[AU]')\n",
    "pyplot.plot(x_grid, B)\n",
    "pyplot.show()\n",
    "fig5.savefig('Initial_Bacterial_Population.png')\n"
   ]
  },
  {
   "cell_type": "code",
   "execution_count": 39,
   "metadata": {
    "collapsed": false
   },
   "outputs": [
    {
     "name": "stdout",
     "output_type": "stream",
     "text": [
      "1e-05\n",
      "1e-05\n",
      "[[ 22.261261 -21.261261   0.       ...,   0.         0.         0.      ]\n",
      " [-21.261261  43.522523 -21.261261 ...,   0.         0.         0.      ]\n",
      " [  0.       -21.261261  43.522523 ...,   0.         0.         0.      ]\n",
      " ..., \n",
      " [  0.         0.         0.       ...,  43.522523 -21.261261   0.      ]\n",
      " [  0.         0.         0.       ..., -21.261261  43.522523 -21.261261]\n",
      " [  0.         0.         0.       ...,   0.       -21.261261  22.261261]]\n",
      "[[-20.261261  21.261261   0.       ...,   0.         0.         0.      ]\n",
      " [ 21.261261 -41.522523  21.261261 ...,   0.         0.         0.      ]\n",
      " [  0.        21.261261 -41.522523 ...,   0.         0.         0.      ]\n",
      " ..., \n",
      " [  0.         0.         0.       ..., -41.522523  21.261261   0.      ]\n",
      " [  0.         0.         0.       ...,  21.261261 -41.522523  21.261261]\n",
      " [  0.         0.         0.       ...,   0.        21.261261 -20.261261]]\n"
     ]
    }
   ],
   "source": [
    "# Construct Bacterial Diffusion Equation\n",
    "\n",
    "# it was for i in range(J-1)\n",
    "d_u = 5.9*10**(-10) # E-coli motility (m2/s)\n",
    "d_m = 0.03*d_u # E-coli diffucivity at the membranes\n",
    "d_c = (dx+(J1[1]-J1[0]))/2 # averaging the coarse and fine grid sizes\n",
    "rho = float(dt)/float(4.*dx) \n",
    "\n",
    "print d_c\n",
    "print J1[1]-J1[0]\n",
    "sigma_u = float(d_u*dt)/float((2.*dx*dx)) \n",
    "sigma_m = float(d_m*dt)/float((2.*(J1[1]-J1[0])*(J1[1]-J1[0])))\n",
    "C_u=[]\n",
    "D_u=[]\n",
    "\n",
    "def CuDu_update(V_C_I,V_C_d_I): \n",
    "    C_u = numpy.diagflat([-sigma_u+rho*V_C_I[i] for i in range(1,len(x_grid))], -1) + \\\n",
    "      numpy.diagflat([1.+sigma_u+rho*V_C_I[0]]+[1.+2.*sigma_u for i in range(len(x_grid)-2)] + \\\n",
    "                     [1.+sigma_u-rho*V_C_I[len(x_grid)-1]]) + \\\n",
    "      numpy.diagflat([-(sigma_u+rho*V_C_I[i]) for i in range(1,len(x_grid))], 1)\n",
    "        \n",
    "    D_u = numpy.diagflat([sigma_u-rho*V_C_I[i] for i in range(1,len(x_grid))], -1) + \\\n",
    "      numpy.diagflat([1.-sigma_u-rho*V_C_I[0]+V_C_d_I[0]]+[1.-2.*sigma_u for i in range(len(x_grid)-2)]+ \\\n",
    "                     [1.-sigma_u+V_C_d_I[len(x_grid)-1]+rho*(V_C_I[len(x_grid)-1])]) + \\\n",
    "      numpy.diagflat([sigma_u+rho*(V_C_I[i]) for i in range(1,len(x_grid))], 1)\n",
    "\n",
    "# 1st membrane left boundary\n",
    "    sigma_c_minus = float(d_u*dt)/float(2.*dx*d_c) # outside membrane \n",
    "    sigma_c_plus = float(d_m*dt)/float((2.*(J1[1]-J1[0])*d_c)) # within membrane\n",
    "\n",
    "    C_u[no_high,no_high]=1.+sigma_c_plus+sigma_c_minus\n",
    "    C_u[no_high,no_high-1]=-sigma_c_minus+rho*V_C_I[no_high]\n",
    "    C_u[no_high,no_high+1]=-sigma_c_plus-rho*V_C_I[no_high]\n",
    "    D_u[no_high,no_high]=1.-sigma_c_plus-sigma_c_minus\n",
    "    D_u[no_high,no_high-1]=sigma_c_minus-rho*V_C_I[no_high]\n",
    "    D_u[no_high,no_high+1]=sigma_c_plus+rho*V_C_I[no_high]\n",
    "\n",
    "#within the 1st membrane only (not yet updated)\n",
    "    if len(J1) >= 3: # only work if there's more than 3 grids in the membrane\n",
    "        for i in range(len(J1)-2): # exclude the left and right boundary\n",
    "            i = i+1 # next of the left boundary\n",
    "            C_u[no_high+i,no_high+i]=1.+2.*sigma_m\n",
    "            C_u[no_high+i,no_high+i-1]=-sigma_m\n",
    "            C_u[no_high+i,no_high+i+1]=-sigma_m\n",
    "            D_u[no_high+i,no_high+i]=1.-2.*sigma_m\n",
    "            D_u[no_high+i,no_high+i-1]=sigma_m\n",
    "            D_u[no_high+i,no_high+i+1]=sigma_m\n",
    "\n",
    "# 1st membrane right boundary\n",
    "    sigma_c_minus = float(d_m*dt)/float((2.*(J1[1]-J1[0])*d_c)) # within membrane \n",
    "    sigma_c_plus = float(d_u*dt)/float((2.*dx*d_c)) # outside membrane\n",
    "\n",
    "    C_u[no_high+2,no_high+2]=1.+sigma_c_plus+sigma_c_minus\n",
    "    C_u[no_high+2,no_high+2-1]=-sigma_c_minus+rho*V_C_I[no_high+2]\n",
    "    C_u[no_high+2,no_high+2+1]=-sigma_c_plus-rho*V_C_I[no_high+2]\n",
    "    D_u[no_high+2,no_high+2]=1.-sigma_c_plus-sigma_c_minus\n",
    "    D_u[no_high+2,no_high+2-1]=sigma_c_minus-rho*V_C_I[no_high+2]\n",
    "    D_u[no_high+2,no_high+2+1]=sigma_c_plus+rho*V_C_I[no_high+2]\n",
    "    \n",
    "# 2nd membrane left boundary\n",
    "    sigma_c_minus = float(d_u*dt)/float((2.*dx*d_c)) # outside membrane \n",
    "    sigma_c_plus = float(d_m*dt)/float((2.*(J1[1]-J1[0])*d_c)) # within membrane\n",
    "\n",
    "    C_u[second_mem,second_mem]=1.+sigma_c_plus+sigma_c_minus\n",
    "    C_u[second_mem,second_mem-1]=-sigma_c_minus+rho*V_C_I[second_mem]\n",
    "    C_u[second_mem,second_mem+1]=-sigma_c_plus-rho*V_C_I[second_mem]\n",
    "    D_u[second_mem,second_mem]=1.-sigma_c_plus-sigma_c_minus\n",
    "    D_u[second_mem,second_mem-1]=sigma_c_minus-rho*V_C_I[second_mem]\n",
    "    D_u[second_mem,second_mem+1]=sigma_c_plus-rho*V_C_I[second_mem]\n",
    "\n",
    "# within the 2nd membrane (not yet update)\n",
    "    if len(J2) >=3: # work only if there's more than 3 elements in J2\n",
    "        for i in range(len(J2)-2): # excluding the left and right boundary\n",
    "            i = i+1 # next of the left boundary\n",
    "            C_u[second_mem+i,second_mem+i]=1.+2.*sigma_m\n",
    "            C_u[second_mem+i,second_mem+i-1]=-sigma_m\n",
    "            C_u[second_mem+i,second_mem+i+1]=-sigma_m\n",
    "            D_u[second_mem+i,second_mem+i]=1.-2.*sigma_m\n",
    "            D_u[second_mem+i,second_mem+i-1]=sigma_m\n",
    "            D_u[second_mem+i,second_mem+i+1]=sigma_m\n",
    "\n",
    "# 2nd membrane right boundary\n",
    "    sigma_c_minus = float(d_m*dt)/float((2.*(J1[1]-J1[0])*d_c)) # within membrane \n",
    "    sigma_c_plus = float(d_u*dt)/float((2.*dx*d_c)) # outside membrane\n",
    "\n",
    "    C_u[second_mem+2,second_mem+2]=1.+sigma_c_plus+sigma_c_minus\n",
    "    C_u[second_mem+2,second_mem+2-1]=-sigma_c_minus+rho*V_C_I[second_mem+2]\n",
    "    C_u[second_mem+2,second_mem+2+1]=-sigma_c_plus-rho*V_C_I[second_mem+2]\n",
    "    D_u[second_mem+2,second_mem+2]=1.-sigma_c_plus-sigma_c_minus\n",
    "    D_u[second_mem+2,second_mem+2-1]=sigma_c_minus-rho*V_C_I[second_mem+2]\n",
    "    D_u[second_mem+2,second_mem+2+1]=sigma_c_plus+rho*V_C_I[second_mem+2]\n",
    "    \n",
    "    return C_u, D_u\n",
    "\n",
    "C_u,D_u = CuDu_update(V_C[0,:],V_C_d[0,:])\n",
    "\n",
    "print C_u\n",
    "print D_u\n",
    "# print ('dx is ' + str(dx))\n",
    "# print ('finer grid is '+ str(J1[1]-J1[0]))\n",
    "# print('average grid size is '+ str(d_c))\n",
    "#print ('sigma_m is '+ str(sigma_m))\n",
    "#print ('1-2.*sigma_c is '+ str(1.-2.*sigma_c))\n",
    "#print ('sigma_c is '+ str(sigma_c))\n",
    "# print C_u[no_high,no_high]\n",
    "# print C_u[no_high,no_high-1]\n",
    "# print C_u[no_high,no_high+1]\n",
    "# print C_u[second_mem,second_mem]\n",
    "# print C_u[second_mem,second_mem-1] \n",
    "# print C_u[second_mem,second_mem+1] \n",
    "# print D_u[no_high,no_high]\n",
    "# print D_u[no_high,no_high-1]\n",
    "# print D_u[no_high,no_high+1]\n",
    "# print D_u[second_mem,second_mem]\n",
    "# print D_u[second_mem,second_mem-1] \n",
    "# print D_u[second_mem,second_mem+1] "
   ]
  },
  {
   "cell_type": "code",
   "execution_count": 17,
   "metadata": {
    "collapsed": false
   },
   "outputs": [],
   "source": [
    "# initial condition for the f_vec\n",
    "\n",
    "\n",
    "#r = len(t_grid) # length of the temporal grids\n",
    "#c = len(x_grid) # length of the spatial grids\n",
    "\n",
    "#B_record = numpy.zeros([r,c])\n",
    "#B = numpy.asarray(B)\n",
    "#B_record[0,:] = B # initial condition\n",
    "\n",
    "# not yet done\n",
    "#for i in range(0,r-1): # time\n",
    "#    for j in range(0,c-1): # space\n",
    "#        B_record[i+1,j] = -dt*((V_C[i,j+1]-V_C[i,j])/(x_grid[i,j+1]-x_grid[i,j])*B[i,j]+(B[i,j+1]-B[i,j])/(x_grid[i,j+1]-x_grid[i,j])*V_C[i,j])\n",
    "\n",
    "#for j in range(len(B)): # loop all spatial grids\n",
    "#    f_vec = numpy.multiply(dt,numpy.add(numpy.multiply(B,numpy.divide(numpy.subtract(V_C[0,j+1],V_C[0,j]),dx)),numpy. multiply(V_C[0,j],numpy.divide(numpy.subtract(B[0,j+1],B[0,j]),dx))))\n",
    "#############\n"
   ]
  },
  {
   "cell_type": "code",
   "execution_count": 40,
   "metadata": {
    "collapsed": false
   },
   "outputs": [],
   "source": [
    "B_record = []\n",
    "B_receiver_record = []\n",
    "\n",
    "B_record.append(B)\n",
    "B_receiver_record.append(B[(second_mem+1):-1])\n",
    "\n",
    "for ti in range(1,N):\n",
    "    V_C_I = V_C[ti-1,:]\n",
    "    V_C_d_I = V_C_d[ti-1,:]\n",
    "    C_u,D_u = CuDu_update(V_C_I,V_C_d_I)\n",
    "    B_new = numpy.linalg.solve(C_u,D_u.dot(B))    \n",
    "    B = B_new \n",
    "    B_record.append(B)\n",
    "    B_receiver = B[(second_mem+1):-1] # bacterial population in the receiving chamber\n",
    "    #B_sum_receiver = numpy.sum(numpy.asarray(B_receiver)) # sum of the bacterial population in the receiving chamber\n",
    "    B_receiver_record.append(B_receiver)\n",
    "   # B_sum_receiver_record.append(B_sum_receiver)\n",
    "\n",
    "B_record = numpy.asarray(B_record) # convert B_record to an array\n",
    "B_receiver_record = numpy.asarray(B_receiver_record) # convert B_receiver to an array\n",
    "numpy.savetxt(\"BacterialPopulation.csv\", B_record, delimiter=\",\")\n",
    "numpy.savetxt(\"BacterialPopulationReceiver.csv\", B_receiver_record, delimiter=\",\")\n",
    "\n"
   ]
  },
  {
   "cell_type": "code",
   "execution_count": 41,
   "metadata": {
    "collapsed": true
   },
   "outputs": [],
   "source": [
    "# Plot the bacterial population in the heat map\n",
    "fig6, ax = pyplot.subplots()\n",
    "pyplot.xlabel('x[m]'); pyplot.ylabel('t[sec]')\n",
    "heatmap = ax.pcolor(x_grid, t_grid, B_record, vmin=0., vmax=100.)\n",
    "colorbar = pyplot.colorbar(heatmap)\n",
    "pyplot.show()\n",
    "fig6.savefig('Bacterial_population_transient_heatmap_no_convective.png')"
   ]
  },
  {
   "cell_type": "code",
   "execution_count": 14,
   "metadata": {
    "collapsed": false
   },
   "outputs": [],
   "source": [
    "# Plot the bacterial population in the last time snap shot\n",
    "fig7 = pyplot.figure()\n",
    "pyplot.ylim((0., 100.))\n",
    "pyplot.xlabel('x[m]'); pyplot.ylabel('Bacterial Population[mM]')\n",
    "pyplot.plot(x_grid, B)\n",
    "pyplot.show()\n",
    "fig7.savefig('Transient_Bacterial_Population.png')\n"
   ]
  },
  {
   "cell_type": "markdown",
   "metadata": {
    "collapsed": false
   },
   "source": [
    "Below I only plot the bacterial population in the receiving chamber!\n"
   ]
  },
  {
   "cell_type": "code",
   "execution_count": 75,
   "metadata": {
    "collapsed": false
   },
   "outputs": [],
   "source": [
    "# Plot the bacterial population (receiving chamber only) in the heat map\n",
    "fig8, ax = pyplot.subplots()\n",
    "pyplot.xlabel('x[m]'); pyplot.ylabel('t[sec]')\n",
    "heatmap = ax.pcolor(x_grid[(second_mem+1):-1], t_grid, B_receiver_record, vmin=0., vmax=100.)\n",
    "colorbar = pyplot.colorbar(heatmap)\n",
    "pyplot.show()\n",
    "fig8.savefig('Receiver_Bacterial_population_transient_heatmap_no_convective.png')"
   ]
  },
  {
   "cell_type": "code",
   "execution_count": 42,
   "metadata": {
    "collapsed": false
   },
   "outputs": [],
   "source": [
    "# plot the sum of bacterial population over time \n",
    "B_receiver_sum = numpy.sum(B_receiver_record,axis=1) # sum over the rows (spatail grids) in the receiver\n",
    "B_record_sum = numpy.sum(B_record,axis=1) # sum over the rows (spatial grids) in the whole devices\n",
    "B_receiver_percentage = B_receiver_sum/B_record_sum*100. \n",
    "\n",
    "figsum = pyplot.figure()\n",
    "pyplot.ylim((0., 100.))\n",
    "pyplot.xlabel('time[sec]'); pyplot.ylabel('Percentage of the Receiver Bacterial Population[%]')\n",
    "pyplot.plot(t_grid, B_receiver_percentage)\n",
    "pyplot.show()\n",
    "figsum.savefig('Percentage of the Receiver Bacterial Population vs Time')"
   ]
  },
  {
   "cell_type": "code",
   "execution_count": 13,
   "metadata": {
    "collapsed": false
   },
   "outputs": [
    {
     "name": "stdout",
     "output_type": "stream",
     "text": [
      "35.983517\n"
     ]
    }
   ],
   "source": [
    "# Plot the bacterial population (receiving chamber only) in the last time snap shot\n",
    "fig9 = pyplot.figure()\n",
    "pyplot.ylim((0., 100.))\n",
    "pyplot.xlabel('x[m]'); pyplot.ylabel('Receiver Bacterial Population[mM]')\n",
    "pyplot.plot(x_grid[(second_mem+1):-1], B_receiver)\n",
    "pyplot.show()\n",
    "fig9.savefig('Receiver_Transient_Bacterial_Population.png')\n",
    "\n",
    "toc = time.clock()\n",
    "elapsed = toc-tic\n",
    "print elapsed"
   ]
  },
  {
   "cell_type": "code",
   "execution_count": null,
   "metadata": {
    "collapsed": true
   },
   "outputs": [],
   "source": []
  }
 ],
 "metadata": {
  "kernelspec": {
   "display_name": "Python 2",
   "language": "python",
   "name": "python2"
  },
  "language_info": {
   "codemirror_mode": {
    "name": "ipython",
    "version": 2
   },
   "file_extension": ".py",
   "mimetype": "text/x-python",
   "name": "python",
   "nbconvert_exporter": "python",
   "pygments_lexer": "ipython2",
   "version": "2.7.10"
  }
 },
 "nbformat": 4,
 "nbformat_minor": 0
}
